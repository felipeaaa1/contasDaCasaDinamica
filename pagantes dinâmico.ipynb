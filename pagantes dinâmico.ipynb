{
 "cells": [
  {
   "cell_type": "code",
   "execution_count": 8,
   "id": "77f7897f",
   "metadata": {},
   "outputs": [
    {
     "name": "stdout",
     "output_type": "stream",
     "text": [
      "digite a quantidade de pagantes 3\n",
      "digite o salario  do pagante 1: R$ 150\n",
      "digite o nome do pagante 1: a\n",
      "digite o salario  do pagante 2: R$ 148\n",
      "digite o nome do pagante 2: beatriz \n",
      "digite o salario  do pagante 3: R$ 400.9\n",
      "digite o nome do pagante 3: carlos alberto\n",
      "ok, agora vamos para as despesas\n",
      "digite a quantidade de despesas 4\n",
      "digite o valor da despesa 1: R$10\n",
      "digite a descricao da despesa 1: luz\n",
      "digite o valor da despesa 2: R$20\n",
      "digite a descricao da despesa 2: agua\n",
      "digite o valor da despesa 3: R$15\n",
      "digite a descricao da despesa 3: net\n",
      "digite o valor da despesa 4: R$40.8\n",
      "digite a descricao da despesa 4: uber\n",
      "procentagem do salario de cada 12.276430000000001 %\n",
      "\n",
      "a deve pagar: 18.41 R$\n",
      "beatriz  deve pagar: 18.17 R$\n",
      "carlos alberto deve pagar: 49.22 R$\n",
      "lista pagantes: \n",
      " [('a', 150.0), ('beatriz ', 148.0), ('carlos alberto', 400.9)]\n",
      "\n",
      "lista despesas: \n",
      " [(10.0, 'luz'), (20.0, 'agua'), (15.0, 'net'), (40.8, 'uber')]\n",
      "\n",
      "soma salarios:\n",
      " 698.9\n",
      "\n",
      "soma_despesas:\n",
      " 85.8\n"
     ]
    }
   ],
   "source": [
    "from time import sleep\n",
    "#import math\n",
    "\n",
    "qnt_pagantes = int( input(\"digite a quantidade de pagantes \") )\n",
    "lista_pagantes = []\n",
    "for i in range(qnt_pagantes):\n",
    "    valor = float( input(f\"digite o salario  do pagante {1+i}: R$ \") );\n",
    "    nome = input(f\"digite o nome do pagante {1+i}: \");\n",
    "    lista_pagantes.append((nome, valor));\n",
    "    \n",
    "sleep(1)\n",
    "print(\"ok, agora vamos para as despesas\")\n",
    "sleep(2)\n",
    "\n",
    "qnt_despesas = int( input(\"digite a quantidade de despesas \") )\n",
    "lista_despesas = []\n",
    "for i in range(qnt_despesas):\n",
    "    valor = float( input(f\"digite o valor da despesa {1+i}: R$\") );\n",
    "    descricao =  input(f\"digite a descricao da despesa {1+i}: \");\n",
    "    lista_despesas.append((valor, descricao));\n",
    "    \n",
    "\n",
    "soma_salarios = 0\n",
    "for salario in lista_pagantes:\n",
    "    soma_salarios = soma_salarios + salario[1];\n",
    "\n",
    "    \n",
    "soma_despesas = 0\n",
    "for despesa in lista_despesas:\n",
    "    soma_despesas = soma_despesas + despesa[0];\n",
    "    \n",
    "\n",
    "porcentagem = round(soma_despesas/soma_salarios,7)\n",
    "print(\"procentagem do salario de cada\",porcentagem*100  ,\"%\\n\");\n",
    "sleep(1);\n",
    "total = 0;\n",
    "for pagante in lista_pagantes:\n",
    "    print(f\"{pagante[0]} deve pagar: {round(pagante[1]*porcentagem,2)} R$\");\n",
    "    total = total + round(pagante[1]*porcentagem,2);\n",
    "    sleep(0.5);\n",
    "print(\"lista pagantes: \\n\",lista_pagantes)\n",
    "print(\"\\nlista despesas: \\n\",lista_despesas)\n",
    "#sleep(1);\n",
    "print(\"\\nsoma salarios:\\n\",soma_salarios);\n",
    "\n",
    "print(\"\\nsoma_despesas:\\n\",soma_despesas);\n",
    "\n"
   ]
  },
  {
   "cell_type": "code",
   "execution_count": null,
   "id": "6cb04dc7",
   "metadata": {},
   "outputs": [],
   "source": []
  }
 ],
 "metadata": {
  "kernelspec": {
   "display_name": "Python 3",
   "language": "python",
   "name": "python3"
  },
  "language_info": {
   "codemirror_mode": {
    "name": "ipython",
    "version": 3
   },
   "file_extension": ".py",
   "mimetype": "text/x-python",
   "name": "python",
   "nbconvert_exporter": "python",
   "pygments_lexer": "ipython3",
   "version": "3.8.8"
  }
 },
 "nbformat": 4,
 "nbformat_minor": 5
}
